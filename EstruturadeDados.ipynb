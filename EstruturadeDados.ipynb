{
 "cells": [
  {
   "cell_type": "markdown",
   "metadata": {},
   "source": [
    "Pesquisa Binária : Log2n\n",
    "\n",
    "Desvantagens:\n",
    "É eficiente apenas em listas ordenadas"
   ]
  },
  {
   "cell_type": "code",
   "execution_count": 14,
   "metadata": {},
   "outputs": [
    {
     "name": "stdout",
     "output_type": "stream",
     "text": [
      "14\n",
      "Chute maior -> U: 14 M: 7\n",
      "Chute menor ->P:7 M:10\n",
      "Chute menor ->P:10 M:12\n",
      "(12, 10, 14, 3)\n"
     ]
    }
   ],
   "source": [
    "def pesquisaBinaria(lista,valor):\n",
    "    nAcoes = 0\n",
    "    primeiraPosicao = 0\n",
    "    ultimaPosicao = len(lista)-1\n",
    "    posicaoDoMeio = int(ultimaPosicao/2)\n",
    "    print(posicaoDoMeio)\n",
    "    while nAcoes < 20:\n",
    "        chute = lista[posicaoDoMeio]\n",
    "        if chute < valor:\n",
    "            primeiraPosicao = posicaoDoMeio\n",
    "            posicaoDoMeio = posicaoDoMeio + int((ultimaPosicao - primeiraPosicao)/2)\n",
    "            print(f\"Chute menor ->P:{primeiraPosicao} M:{posicaoDoMeio}\")\n",
    "        elif chute > valor:\n",
    "            ultimaPosicao = posicaoDoMeio\n",
    "            posicaoDoMeio = int(ultimaPosicao/2)\n",
    "            print(f\"Chute maior -> U: {ultimaPosicao} M: {posicaoDoMeio}\")\n",
    "        elif chute == valor:\n",
    "            return chute,primeiraPosicao,ultimaPosicao,nAcoes\n",
    "        nAcoes+=1\n",
    "\n",
    "listaOrdenada = [0,1,2,3,4,5,6,7,8,9,10,11,12,13,14,15,16,17,18,19,20,21,22,23,24,25,26,27,28,29]\n",
    "valor = 12\n",
    "print(pesquisaBinaria(listaOrdenada,valor))\n",
    "\n"
   ]
  },
  {
   "cell_type": "markdown",
   "metadata": {},
   "source": []
  }
 ],
 "metadata": {
  "kernelspec": {
   "display_name": "Python 3.10.7 64-bit",
   "language": "python",
   "name": "python3"
  },
  "language_info": {
   "codemirror_mode": {
    "name": "ipython",
    "version": 3
   },
   "file_extension": ".py",
   "mimetype": "text/x-python",
   "name": "python",
   "nbconvert_exporter": "python",
   "pygments_lexer": "ipython3",
   "version": "3.11.0"
  },
  "orig_nbformat": 4,
  "vscode": {
   "interpreter": {
    "hash": "e7370f93d1d0cde622a1f8e1c04877d8463912d04d973331ad4851f04de6915a"
   }
  }
 },
 "nbformat": 4,
 "nbformat_minor": 2
}
